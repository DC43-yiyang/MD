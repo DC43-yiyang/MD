{
 "cells": [
  {
   "cell_type": "markdown",
   "metadata": {},
   "source": [
    "# Prepare for the envrioment\n",
    "Load the libraries and packages"
   ]
  },
  {
   "cell_type": "code",
   "execution_count": 51,
   "metadata": {},
   "outputs": [],
   "source": [
    "import scanpy as sc\n",
    "import numpy as np\n",
    "import scipy as sp\n",
    "import pandas as pd\n",
    "import matplotlib.pyplot as plt\n",
    "from matplotlib import rcParams\n",
    "from matplotlib import colors\n",
    "import seaborn as sb\n",
    "from gprofiler import GProfiler\n",
    "\n",
    "import rpy2.rinterface_lib.callbacks\n",
    "import logging\n",
    "\n",
    "from rpy2.robjects import pandas2ri\n",
    "import anndata2ri"
   ]
  },
  {
   "cell_type": "code",
   "execution_count": 52,
   "metadata": {},
   "outputs": [],
   "source": [
    "sample_strings = ['Duo_M1', 'Duo_M2', 'Jej_M1', 'Jej_M2', 'Il_M1', 'Il_M2']\n",
    "sample_id_strings = ['3', '4', '5', '6', '7', '8']\n",
    "file_base = '/home/yiyang/github/MD/data/GSE92332_uncompressed/GSM283657'\n",
    "exp_string = '_Regional_'\n",
    "data_file_end = '_matrix.mtx'\n",
    "barcode_file_end = '_barcodes.tsv'\n",
    "gene_file_end = '_genes.tsv'\n",
    "cc_genes_file = '/home/yiyang/github/MD/data/Macosko_cell_cycle_genes.txt'\n",
    "\n",
    "def load_and_process_sample(sample, sample_id):\n",
    "    data_file = f\"{file_base}{sample_id}{exp_string}{sample}{data_file_end}\"\n",
    "    barcode_file = f\"{file_base}{sample_id}{exp_string}{sample}{barcode_file_end}\"\n",
    "    gene_file = f\"{file_base}{sample_id}{exp_string}{sample}{gene_file_end}\"\n",
    "\n",
    "    # load data\n",
    "    adata = sc.read_mtx(data_file).transpose()\n",
    "    barcodes = pd.read_csv(barcode_file, header=None, sep='\\t')\n",
    "    genes = pd.read_csv(gene_file, header=None, sep='\\t')\n",
    "\n",
    "    # annotate data\n",
    "    barcodes.columns = ['barcode']\n",
    "    barcodes['unique_barcode'] = sample + '_' + barcodes['barcode'].astype(str)\n",
    "    barcodes.set_index('unique_barcode', inplace=True)\n",
    "    adata.obs = barcodes\n",
    "    adata.obs['sample'] = sample\n",
    "    adata.obs['region'] = sample.split(\"_\")[0]\n",
    "    adata.obs['donor'] = sample.split(\"_\")[1]\n",
    "\n",
    "    genes.columns = ['gene_id', 'gene_symbol']\n",
    "    genes['unique_gene'] = genes['gene_symbol'] + '_' + genes['gene_id']\n",
    "    genes.set_index('unique_gene', inplace=True)\n",
    "    adata.var = genes\n",
    "\n",
    "    return adata\n"
   ]
  },
  {
   "cell_type": "code",
   "execution_count": 53,
   "metadata": {},
   "outputs": [
    {
     "name": "stderr",
     "output_type": "stream",
     "text": [
      "/tmp/ipykernel_724960/615492831.py:8: FutureWarning: Use anndata.concat instead of AnnData.concatenate, AnnData.concatenate is deprecated and will be removed in the future. See the tutorial for concat at: https://anndata.readthedocs.io/en/latest/concatenation.html\n",
      "  adata = adatas[0].concatenate(adatas[1:], join='outer')\n"
     ]
    }
   ],
   "source": [
    "adatas = []\n",
    "for sample, sample_id in zip(sample_strings, sample_id_strings):\n",
    "    adata = load_and_process_sample(sample, sample_id)\n",
    "    adatas.append(adata)\n",
    "\n",
    "adata = adatas[0].concatenate(adatas[1:], join='outer')\n",
    "\n",
    "adata.var_names_make_unique()\n",
    "adata.obs_names_make_unique()\n",
    "\n",
    "adata.var['original_gene_symbol'] = adata.var.index.str.split('_').str[0]\n",
    "adata.var['gene_id'] = adata.var.index.str.split('_').str[1]\n",
    "\n",
    "adata.var['unique_gene_symbol'] = adata.var['original_gene_symbol'] + '_' + adata.var.groupby('original_gene_symbol').cumcount().astype(str)\n",
    "\n",
    "adata.var_names = adata.var['unique_gene_symbol']\n",
    "\n",
    "adata.var_names_make_unique()\n",
    "\n",
    "cc_genes = pd.read_csv(cc_genes_file, header=None, names=['gene_symbols'])\n",
    "s_genes = cc_genes[cc_genes['gene_symbols'].str.startswith('s_genes')]['gene_symbols'].str.split('s_genes:').str[1].str.split('\\t').explode().tolist()\n",
    "g2m_genes = cc_genes[cc_genes['gene_symbols'].str.startswith('g2m_genes')]['gene_symbols'].str.split('g2m_genes:').str[1].str.split('\\t').explode().tolist()\n",
    "\n"
   ]
  },
  {
   "cell_type": "code",
   "execution_count": 59,
   "metadata": {},
   "outputs": [
    {
     "name": "stdout",
     "output_type": "stream",
     "text": [
      "region:\n",
      "region\n",
      "Duo    2348\n",
      "Name: count, dtype: int64\n",
      "\n",
      "==================================================\n",
      "\n",
      "donor:\n",
      "donor\n",
      "M1    2348\n",
      "Name: count, dtype: int64\n",
      "\n",
      "==================================================\n",
      "\n",
      "sample:\n",
      "sample\n",
      "Duo_M1    2348\n",
      "Name: count, dtype: int64\n",
      "\n",
      "==================================================\n",
      "\n"
     ]
    }
   ],
   "source": [
    "print(\"region:\")\n",
    "print(adata.obs['region'].value_counts())\n",
    "print(\"\\n\" + \"=\"*50 + \"\\n\")\n",
    "\n",
    "print(\"donor:\")\n",
    "print(adata.obs['donor'].value_counts())\n",
    "print(\"\\n\" + \"=\"*50 + \"\\n\")\n",
    "\n",
    "print(\"sample:\")\n",
    "print(adata.obs['sample'].value_counts())\n",
    "print(\"\\n\" + \"=\"*50 + \"\\n\")\n",
    "\n",
    "adata.write('/home/yiyang/github/MD/data/mouse_intestinal_epithelium.h5ad')\n",
    "\n"
   ]
  }
 ],
 "metadata": {
  "kernelspec": {
   "display_name": "scRNA-seq",
   "language": "python",
   "name": "scrna-seq"
  },
  "language_info": {
   "codemirror_mode": {
    "name": "ipython",
    "version": 3
   },
   "file_extension": ".py",
   "mimetype": "text/x-python",
   "name": "python",
   "nbconvert_exporter": "python",
   "pygments_lexer": "ipython3",
   "version": "3.11.10"
  }
 },
 "nbformat": 4,
 "nbformat_minor": 2
}
